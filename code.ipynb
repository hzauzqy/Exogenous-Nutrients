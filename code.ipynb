{
 "cells": [
  {
   "cell_type": "markdown",
   "id": "768ec112-32f8-47c3-b6b2-6fee26330f2c",
   "metadata": {},
   "source": [
    "### Seven bacterial metabolites are uptaked and secreted"
   ]
  },
  {
   "cell_type": "code",
   "execution_count": 2,
   "id": "f853dc8e-1fcf-41e0-bd10-3cfb3d664f8c",
   "metadata": {},
   "outputs": [],
   "source": [
    "import cobra\n",
    "import pandas as pd\n",
    "import os\n",
    "# import gurobipy"
   ]
  },
  {
   "cell_type": "code",
   "execution_count": 52,
   "id": "1dc082a3-550b-4a14-8a0f-6e3bb41f9c17",
   "metadata": {},
   "outputs": [],
   "source": [
    "# specie_name: specie name\n",
    "# model_xml: model\n",
    "# model_type: CarveMe or KBase or KBase_DEMETER or CarveMe_DEMETER\n",
    "# uptake_secrete: uptake or secrete\n",
    "# experiment_data: experiment data\n",
    "def metabolite_uptake(specie_name, model_xml, model_type, uptake_secrete, experiment_data):\n",
    "    bacdive_uptake = pd.read_csv(experiment_data, sep='\\t')\n",
    "    if specie_name in list(bacdive_uptake['MicrobeID']):\n",
    "        selected_rows = bacdive_uptake[bacdive_uptake['MicrobeID'] == specie_name]\n",
    "        selected_rows = selected_rows.T.reset_index()\n",
    "        selected_rows.columns = ['name', 'Value']\n",
    "        model = cobra.io.read_sbml_model(model_xml)\n",
    "        # model.solver = 'gurobi'\n",
    "        ex = []\n",
    "        for i in model.exchanges:\n",
    "            id  = i.id\n",
    "            ex.append(id)\n",
    "        \n",
    "        for i in model.exchanges:\n",
    "            i.bounds = (-1000, 1000)\n",
    "            \n",
    "        tol = 0.0001\n",
    "        TP_uptake, FN_uptake, FP_uptake, TN_uptake = [], [], [], []\n",
    "        TP_secrete, FN_secrete, FP_secrete, TN_secrete = [], [], [], []\n",
    "        \n",
    "        # model_type\n",
    "        model_type_dict = {\n",
    "            'CarveMe': 'EX_{}_e',\n",
    "            'KBase': 'EX_{}_e0',\n",
    "            'KBase_DEMETER': 'EX_{}(e)',\n",
    "            'CarveMe_DEMETER': 'EX_{}(e)'}\n",
    "        def get_rect(name):\n",
    "            return model_type_dict.get(model_type, 'EX_{}_e').format(name)\n",
    "        \n",
    "        for i,j in selected_rows.iloc():\n",
    "            rect = get_rect(i)\n",
    "            \n",
    "            #### uptake\n",
    "            if uptake_secrete == 'uptake':\n",
    "                if j == 1:\n",
    "                    if rect in ex:\n",
    "                        model.objective = rect\n",
    "                        FBA = model.optimize('minimize')\n",
    "                        if FBA.objective_value < -tol:\n",
    "                            TP_uptake.append(i)\n",
    "                        else:\n",
    "                            FN_uptake.append(i)\n",
    "                    else:\n",
    "                        FN_uptake.append(i)\n",
    "                elif j == -1:\n",
    "                    if rect in ex:\n",
    "                        model.objective = rect\n",
    "                        FBA = model.optimize('minimize')\n",
    "                        if FBA.objective_value < -tol:\n",
    "                            FP_uptake.append(i)\n",
    "                        else:\n",
    "                            TN_uptake.append(i)\n",
    "                    else:\n",
    "                        TN_uptake.append(i)\n",
    "                        \n",
    "            #### secrete\n",
    "            elif uptake_secrete == 'secrete':\n",
    "                if j == 1:\n",
    "                    if rect in ex:\n",
    "                        model.objective = rect\n",
    "                        FBA = model.optimize('maximize')\n",
    "                        if FBA.objective_value > tol:\n",
    "                            TP_secrete.append(i)\n",
    "                        else:\n",
    "                            FN_secrete.append(i)\n",
    "                    else:\n",
    "                        FN_secrete.append(i)\n",
    "                elif j == -1:\n",
    "                    if rect in ex:\n",
    "                        model.objective = rect\n",
    "                        FBA = model.optimize('maximize')\n",
    "                        if FBA.objective_value > tol:\n",
    "                            FP_secrete.append(i)\n",
    "                        else:\n",
    "                            TN_secrete.append(i)\n",
    "                    else:\n",
    "                        TN_secrete.append(i)            \n",
    "\n",
    "        if uptake_secrete == 'uptake':\n",
    "            accuracy = (len(TP_uptake) + len(TN_uptake)) / (len(TP_uptake) + len(TN_uptake) + len(FN_uptake) + len(FP_uptake))\n",
    "        elif uptake_secrete == 'secrete':\n",
    "            accuracy = (len(TP_secrete) + len(TN_secrete)) / (len(TP_secrete) + len(TN_secrete) + len(FN_secrete) + len(FP_secrete))\n",
    "    else:\n",
    "        accuracy = 'NA'\n",
    "    return accuracy"
   ]
  },
  {
   "cell_type": "code",
   "execution_count": 1,
   "id": "ed33f3e1-fd72-474b-b466-78bf4331cadc",
   "metadata": {},
   "outputs": [],
   "source": [
    "# accuracy = metabolite_uptake(specie_name = 'Coprococcus_catus_GD_7', \n",
    "#                   model_xml = '/home/gzy/daixiewangluofangfabijiao/GEM/carveme/Eubacterium_hallii_DSM_3353.xml', \n",
    "#                   model_type = 'CarveMe', \n",
    "#                   uptake_secrete = 'uptake',\n",
    "#                   experiment_data = '/home/gzy/daixiewangluofangfabijiao/uptake_secretion/carveme/experiment_data/NJC19_Uptake_Data_carveme.txt')\n",
    "# print(accuracy)"
   ]
  },
  {
   "cell_type": "code",
   "execution_count": 59,
   "id": "122f2c68-d4fa-4ad6-aa8f-e1b54be34a50",
   "metadata": {
    "scrolled": true
   },
   "outputs": [
    {
     "name": "stderr",
     "output_type": "stream",
     "text": [
      "/tmp/ipykernel_1386384/3417778669.py:8: DtypeWarning: Columns (237) have mixed types. Specify dtype option on import or set low_memory=False.\n",
      "  bacdive_uptake = pd.read_csv(experiment_data, sep='\\t')\n",
      "/tmp/ipykernel_1386384/3417778669.py:8: DtypeWarning: Columns (237) have mixed types. Specify dtype option on import or set low_memory=False.\n",
      "  bacdive_uptake = pd.read_csv(experiment_data, sep='\\t')\n"
     ]
    },
    {
     "name": "stdout",
     "output_type": "stream",
     "text": [
      "Clostridium_sp_L2_50 : NA\n",
      "Faecalibacterium_prausnitzii_SL3_3 : 0.7\n"
     ]
    },
    {
     "name": "stderr",
     "output_type": "stream",
     "text": [
      "/tmp/ipykernel_1386384/3417778669.py:8: DtypeWarning: Columns (237) have mixed types. Specify dtype option on import or set low_memory=False.\n",
      "  bacdive_uptake = pd.read_csv(experiment_data, sep='\\t')\n"
     ]
    },
    {
     "name": "stdout",
     "output_type": "stream",
     "text": [
      "Subdoligranulum_variabile_DSM_15176 : 0.8823529411764706\n"
     ]
    },
    {
     "name": "stderr",
     "output_type": "stream",
     "text": [
      "/tmp/ipykernel_1386384/3417778669.py:8: DtypeWarning: Columns (237) have mixed types. Specify dtype option on import or set low_memory=False.\n",
      "  bacdive_uptake = pd.read_csv(experiment_data, sep='\\t')\n"
     ]
    },
    {
     "name": "stdout",
     "output_type": "stream",
     "text": [
      "Coprococcus_catus_GD_7 : 1.0\n"
     ]
    },
    {
     "name": "stderr",
     "output_type": "stream",
     "text": [
      "/tmp/ipykernel_1386384/3417778669.py:8: DtypeWarning: Columns (237) have mixed types. Specify dtype option on import or set low_memory=False.\n",
      "  bacdive_uptake = pd.read_csv(experiment_data, sep='\\t')\n"
     ]
    },
    {
     "name": "stdout",
     "output_type": "stream",
     "text": [
      "Roseburia_intestinalis_L1_82 : 0.9047619047619048\n"
     ]
    },
    {
     "name": "stderr",
     "output_type": "stream",
     "text": [
      "/tmp/ipykernel_1386384/3417778669.py:8: DtypeWarning: Columns (237) have mixed types. Specify dtype option on import or set low_memory=False.\n",
      "  bacdive_uptake = pd.read_csv(experiment_data, sep='\\t')\n"
     ]
    },
    {
     "name": "stdout",
     "output_type": "stream",
     "text": [
      "Eubacterium_rectale_M104_1 : 0.8666666666666667\n"
     ]
    },
    {
     "name": "stderr",
     "output_type": "stream",
     "text": [
      "/tmp/ipykernel_1386384/3417778669.py:8: DtypeWarning: Columns (237) have mixed types. Specify dtype option on import or set low_memory=False.\n",
      "  bacdive_uptake = pd.read_csv(experiment_data, sep='\\t')\n"
     ]
    },
    {
     "name": "stdout",
     "output_type": "stream",
     "text": [
      "Eubacterium_hallii_DSM_3353 : 0.9230769230769231\n"
     ]
    }
   ],
   "source": [
    "experiment_data_path = './experiment_data/metabolite_uptake_secrete/KBase_DEMETER/NJC19_Uptake_Data_KBase_DEMETER.txt'\n",
    "model_Data_path = './model/metabolite_uptake_secrete/KBase_DEMETER/'\n",
    "for model in os.listdir(model_Data_path):\n",
    "    model_path = os.path.join(model_Data_path, model)\n",
    "    model_name = model.split('_kbase_refined.xml')[0]\n",
    "    accuracy = metabolite_uptake(specie_name = model_name, \n",
    "                  model_xml = model_path, \n",
    "                  model_type = 'KBase_DEMETER', \n",
    "                  uptake_secrete = 'uptake',\n",
    "                  experiment_data = experiment_data_path)\n",
    "    print(model_name, \":\", accuracy)"
   ]
  },
  {
   "cell_type": "markdown",
   "id": "f931dd4f-635e-4aab-a66e-7794ccf3b2d2",
   "metadata": {},
   "source": [
    "### Prediction accuracy of carbon source utilization in three experimental bacteria"
   ]
  },
  {
   "cell_type": "code",
   "execution_count": 25,
   "id": "5cb42aa9-9da8-475d-9f71-61160dcccadc",
   "metadata": {},
   "outputs": [],
   "source": [
    "# model_type: KBase_DEMETER_id or research_id\n",
    "# id_type: BiGG or SEED or KEGG or KBase_DEMETER\n",
    "def carbon_utilize(model_xml, experiment_data, id_type, model_type):\n",
    "    model = cobra.io.read_sbml_model(model_xml)\n",
    "    for i in model.exchanges:\n",
    "        i.bounds = (-1000,1000)\n",
    "        \n",
    "    carbon = pd.read_excel(experiment_data)\n",
    "    TP, TN, FP, FN = [], [], [], []\n",
    "\n",
    "    model_type_dict = {\n",
    "        'BiGG': 'EX_{}_e',\n",
    "        'SEED': 'EX_{}(e)',\n",
    "        'KEGG': 'EX_{}_e_',\n",
    "        'KBase_DEMETER': 'EX_{}(e)'}\n",
    "    def get_rect(name):\n",
    "        return model_type_dict.get(id_type, 'EX_{}_e').format(name)\n",
    "    \n",
    "    for i, j in zip(carbon['Experiment_Result'], carbon[model_type]):\n",
    "        # EX = 'EX_' + str(j) + '_e'\n",
    "        EX = get_rect(str(j))\n",
    "        if EX in model.reactions:\n",
    "            model.objective = model.reactions.get_by_id(EX)\n",
    "            fba = model.optimize('minimize').objective_value\n",
    "            if fba < 0:\n",
    "                if str(i) == 'True':\n",
    "                    TP.append(j)\n",
    "                else:\n",
    "                    FP.append(j)\n",
    "            else:\n",
    "                if i == 'True':\n",
    "                    FN.append(j)\n",
    "                else:\n",
    "                    TN.append(j)\n",
    "        else:\n",
    "            if i == 'True':\n",
    "                FP.append(j)\n",
    "            else:\n",
    "                TN.append(j)\n",
    "    accuracy = (len(TP) + len(TN)) / (len(TP) + len(TN) + len(FP) + len(FN))\n",
    "    \n",
    "    return accuracy"
   ]
  },
  {
   "cell_type": "code",
   "execution_count": 30,
   "id": "54ab2013-fa4c-4c1c-ba2b-5d40e27f4552",
   "metadata": {},
   "outputs": [
    {
     "name": "stdout",
     "output_type": "stream",
     "text": [
      "0.9263157894736842\n"
     ]
    }
   ],
   "source": [
    "# Salmonella\n",
    "Salmonella_research_xml = './model/carbon_utilize/STM_v1_0.xml'\n",
    "Salmonella_research_id_type = 'BiGG'\n",
    "Salmonella_research_model_type = 'research_id'\n",
    "Salmonella_xml = './model/carbon_utilize/Salmonella_bongori_N268_08_kbase_refined.xml'\n",
    "Salmonella_xml_id_type = 'KBase_DEMETER'\n",
    "Salmonella_xml_model_type = 'KBase_DEMETER_id'\n",
    "Salmonella_experiment_data = './experiment_data/carbon_utilize/Salmonella_Experiment_Result.xlsx'\n",
    "\n",
    "accuracy = carbon_utilize(model_xml = Salmonella_xml, \n",
    "                          experiment_data = Salmonella_experiment_data, \n",
    "                          id_type = 'KBase_DEMETER', \n",
    "                          model_type = 'KBase_DEMETER_id')\n",
    "print('Predicting the accuracy of carbon source utilization:', accuracy)"
   ]
  },
  {
   "cell_type": "code",
   "execution_count": 27,
   "id": "ae8cd662-1034-4848-b1b0-aeea30e0a572",
   "metadata": {},
   "outputs": [
    {
     "name": "stdout",
     "output_type": "stream",
     "text": [
      "0.9365079365079365\n"
     ]
    }
   ],
   "source": [
    "# Pseudomonas aeruginosa\n",
    "Pseudomonas_research_xml = './model/carbon_utilize/iPae1146.xml'\n",
    "Pseudomonas_research_id_type = 'SEED'\n",
    "Pseudomonas_research_model_type = 'research_id'\n",
    "\n",
    "Pseudomonas_xml = './model/carbon_utilize/P_aeruginosa_ATCC_9027_kbase_refined_addAD.xml'\n",
    "Pseudomonas_id_type = 'KBase_DEMETER'\n",
    "Pseudomonas_model_type = 'KBase_DEMETER_id'\n",
    "\n",
    "Pseudomonas_experiment_data = './experiment_data/carbon_utilize/Pseudomonas_aeruginosa_Experiment_Result.xlsx'\n",
    "\n",
    "accuracy = carbon_utilize(model_xml = Pseudomonas_xml, \n",
    "                          experiment_data = Pseudomonas_experiment_data, \n",
    "                          id_type = 'KBase_DEMETER', \n",
    "                          model_type = 'KBase_DEMETER_id')\n",
    "print('Predicting the accuracy of carbon source utilization:', accuracy)"
   ]
  },
  {
   "cell_type": "code",
   "execution_count": 29,
   "id": "87f6b561-9e60-46a5-8615-299207e30d89",
   "metadata": {},
   "outputs": [
    {
     "name": "stdout",
     "output_type": "stream",
     "text": [
      "0.9267015706806283\n"
     ]
    }
   ],
   "source": [
    "# Acinetobacter baumannii\n",
    "Acinetobacter_research_xml = './model/carbon_utilize/iATCC19606_2.xml'\n",
    "Acinetobacter_research_id_type = 'KEGG'\n",
    "Acinetobacter_research_model_type = 'research_id'\n",
    "\n",
    "Acinetobacter_xml = './model/carbon_utilize/Acinetobacter_baumannii_addRXNs.xml'\n",
    "Acinetobacter_id_type = 'KBase_DEMETER'\n",
    "Acinetobacter_model_type = 'KBase_DEMETER_id'\n",
    "\n",
    "Acinetobacter_experiment_data = './experiment_data/carbon_utilize/Acinetobacter_baumannii_Experiment_Result.xlsx'\n",
    "\n",
    "accuracy = carbon_utilize(model_xml = Acinetobacter_xml, \n",
    "                          experiment_data = Acinetobacter_experiment_data, \n",
    "                          id_type = 'KBase_DEMETER', \n",
    "                          model_type = 'KBase_DEMETER_id')\n",
    "print('Predicting the accuracy of carbon source utilization:', accuracy)"
   ]
  },
  {
   "cell_type": "code",
   "execution_count": null,
   "id": "ea17b2f8-0a64-4aa2-92b1-4dd8b4056fcb",
   "metadata": {},
   "outputs": [],
   "source": []
  }
 ],
 "metadata": {
  "kernelspec": {
   "display_name": "cobra",
   "language": "python",
   "name": "cobra"
  },
  "language_info": {
   "codemirror_mode": {
    "name": "ipython",
    "version": 3
   },
   "file_extension": ".py",
   "mimetype": "text/x-python",
   "name": "python",
   "nbconvert_exporter": "python",
   "pygments_lexer": "ipython3",
   "version": "3.9.0"
  }
 },
 "nbformat": 4,
 "nbformat_minor": 5
}
